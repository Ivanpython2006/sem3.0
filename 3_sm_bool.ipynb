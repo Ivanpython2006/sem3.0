{
  "cells": [
    {
      "cell_type": "markdown",
      "metadata": {
        "id": "vTB5o3kIqi-_"
      },
      "source": [
        "# **Семинар №3 - Операции с логическим типом, операции сравнения, условный оператор**"
      ]
    },
    {
      "cell_type": "markdown",
      "metadata": {
        "id": "-rarc8ctpYm4"
      },
      "source": [
        "## Задания"
      ]
    },
    {
      "cell_type": "markdown",
      "metadata": {
        "id": "B9LdUfkBpYm-"
      },
      "source": [
        "1 Проверить выполнение следующих логических тождеств (законов де Моргана) для всех значений А и В (FF, FT, TF, TT):"
      ]
    },
    {
      "cell_type": "markdown",
      "metadata": {
        "id": "s465iI_qpYm-"
      },
      "source": [
        "![seminar_03_bool_deMorgan.png](data:image/png;base64,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)\n",
        "\n"
      ]
    },
    {
      "cell_type": "code",
      "source": [
        "import random"
      ],
      "metadata": {
        "id": "m247Sf-QI5GJ"
      },
      "execution_count": null,
      "outputs": []
    },
    {
      "cell_type": "code",
      "source": [
        "random.choice([14, 4, 6, 20, 5, 11])"
      ],
      "metadata": {
        "colab": {
          "base_uri": "https://localhost:8080/"
        },
        "id": "gf7GVA6AHdXs",
        "outputId": "2fc71ef5-ea07-4698-e645-790ade57320c"
      },
      "execution_count": null,
      "outputs": [
        {
          "output_type": "execute_result",
          "data": {
            "text/plain": [
              "10"
            ]
          },
          "metadata": {},
          "execution_count": 2
        }
      ]
    },
    {
      "cell_type": "markdown",
      "metadata": {
        "id": "2w8Dx-capYm_"
      },
      "source": [
        "2 Записать систему неравенств в одну строку БЕЗ использования and, or, True, False (разрешаются только операции сравнения):\n",
        "$$x^2 > 6 - x$$\n",
        "$$x > 0$$\n",
        "\n",
        "Проверить на x = -5 (False), 3 (True), 1 (False), 0 (False):"
      ]
    },
    {
      "cell_type": "code",
      "source": [],
      "metadata": {
        "id": "rIl9IH8DQEOk"
      },
      "execution_count": null,
      "outputs": []
    },
    {
      "cell_type": "markdown",
      "metadata": {
        "id": "pimWUyPHpYnB"
      },
      "source": [
        "3 Записать все следующие условия в одну цепочку неравенств (без использования логических операторов):\n",
        "* 0 <= a <= c\n",
        "* 0 <= b < c\n",
        "* b == 2\n",
        "* 0 <= c < 5"
      ]
    },
    {
      "cell_type": "code",
      "source": [],
      "metadata": {
        "id": "S6wjSMi2QFTE"
      },
      "execution_count": null,
      "outputs": []
    },
    {
      "cell_type": "markdown",
      "metadata": {
        "id": "4t7ZVG_UpYnC"
      },
      "source": [
        "4 Запросить пользователя ввести две строки. Проверить, что первая строка длиннее второй, но при этом находится ближе в лексикографическом порядке. Подобрать пару строк, удовлетворяющую условию."
      ]
    },
    {
      "cell_type": "code",
      "source": [],
      "metadata": {
        "id": "7ZkWeNLgQHDM"
      },
      "execution_count": null,
      "outputs": []
    },
    {
      "cell_type": "markdown",
      "metadata": {
        "id": "48jjj_dbpYnC"
      },
      "source": [
        "5 Записать перечисленные строки в порядке возрастания. Для проверки воспользуйтесь цепочкой из последовательных сравнений (s1 < s2 < s3 < ...), которая должна возвращать True:\n",
        "* s1 = 'string'\n",
        "* s2 = 'String'\n",
        "* s3 = 'strinG'\n",
        "* s4 = 'stringlong'\n",
        "* s5 = ' string'\n",
        "* s6 = 'string '\n",
        "* s7 = '_string'"
      ]
    },
    {
      "cell_type": "code",
      "source": [],
      "metadata": {
        "id": "3jVm8nS1QH6s"
      },
      "execution_count": null,
      "outputs": []
    },
    {
      "cell_type": "markdown",
      "metadata": {
        "id": "wNPdgSIepYnD"
      },
      "source": [
        "6 Если в произвольной входной строке встречается \"!!!\", выводить на печать \"exclaim\". При этом если строка начинается с \"!!!\", вместо этого выводить \"Nota bene: \" и исходную строку без восклицательных знаков. Если встречается \"???\", то выводить \"question\". Если встречаются оба (\"!!!\" и \"???\"), то ничего не выводить. В других случаях выводить \"random\"."
      ]
    },
    {
      "cell_type": "code",
      "execution_count": null,
      "metadata": {
        "id": "u1g_thE5qRk_",
        "colab": {
          "base_uri": "https://localhost:8080/"
        },
        "outputId": "2aeaf2fc-ffac-43b9-8539-920d20ec239e"
      },
      "outputs": [
        {
          "output_type": "stream",
          "name": "stdout",
          "text": [
            "if1\n",
            "if2\n",
            "if3\n"
          ]
        }
      ],
      "source": []
    },
    {
      "cell_type": "markdown",
      "metadata": {
        "id": "AlKMqxjZpYnE"
      },
      "source": [
        "7 В задании 6 добавить проверку на длину входной строки. Если длина строки больше 5, выполнять инструкцию из задания 6. В противном случае выводить исходную строку три раза подряд через дефис, если количество символов нечетное."
      ]
    },
    {
      "cell_type": "code",
      "execution_count": null,
      "metadata": {
        "id": "Po0eIcM_qRHH"
      },
      "outputs": [],
      "source": []
    },
    {
      "cell_type": "markdown",
      "metadata": {
        "id": "6opiYOEApYnE"
      },
      "source": [
        "8 Протестировать инструкцию: x = a _if_ condition _else_ b на примере: в переменную friend записать x, если в x встречается слово \"banana\", в ином случае записать в нее y.\n",
        "\n",
        "Пример: при x = \"banana monkey\", y = \"orangutan\" значение переменной friend должно быть равно \"banana monkey\"."
      ]
    },
    {
      "cell_type": "code",
      "execution_count": null,
      "metadata": {
        "collapsed": true,
        "id": "M5d470xzpYnF"
      },
      "outputs": [],
      "source": []
    }
  ],
  "metadata": {
    "anaconda-cloud": {},
    "colab": {
      "provenance": []
    },
    "kernelspec": {
      "display_name": "Python 3 (ipykernel)",
      "language": "python",
      "name": "python3"
    },
    "language_info": {
      "codemirror_mode": {
        "name": "ipython",
        "version": 3
      },
      "file_extension": ".py",
      "mimetype": "text/x-python",
      "name": "python",
      "nbconvert_exporter": "python",
      "pygments_lexer": "ipython3",
      "version": "3.9.7"
    }
  },
  "nbformat": 4,
  "nbformat_minor": 0
}